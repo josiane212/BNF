{
 "cells": [
  {
   "cell_type": "code",
   "execution_count": 1,
   "metadata": {},
   "outputs": [
    {
     "name": "stderr",
     "output_type": "stream",
     "text": [
      "[nltk_data] Downloading package punkt to /root/nltk_data...\n",
      "[nltk_data]   Package punkt is already up-to-date!\n"
     ]
    }
   ],
   "source": [
    "from gensim.models import Word2Vec, KeyedVectors\n",
    "\n",
    "from nltk.collocations import *\n",
    "from nltk.tokenize.regexp import regexp_tokenize\n",
    "import nltk\n",
    "from nltk.collocations import BigramCollocationFinder, TrigramCollocationFinder\n",
    "from nltk.metrics import BigramAssocMeasures, TrigramAssocMeasures\n",
    "nltk.download('punkt')\n",
    "\n",
    "import pandas as pd\n",
    "from collections import Counter\n",
    "import re"
   ]
  },
  {
   "cell_type": "code",
   "execution_count": 20,
   "metadata": {},
   "outputs": [],
   "source": [
    "pathtomodel =\"../../../outputs/All_BNF/aligned/all.model\"\n",
    "pathtodata = \"../../../data/all_data/all.txt\"\n",
    "model = Word2Vec.load(pathtomodel)\n",
    "\n",
    "list_of_terms = [\"vache\", \"vaches\",\n",
    "                \"veau\", \"veaux\",\n",
    "                \"taurillon\",\n",
    "                \"genisse\", \"genisses\",\n",
    "                \"taureau\", \"taureaux\", \"taureaus\",\n",
    "                \"boeuf\", \"boeufs\",\n",
    "                \"bestiaux\",\n",
    "                \"immortelles\",\n",
    "                \"immortelle\",\n",
    "                \"immortel\",\"immortels\",\n",
    "                \"imortel, imortels, imortelles, imortelle\"]"
   ]
  },
  {
   "cell_type": "markdown",
   "metadata": {},
   "source": [
    "# Vocab + frequencies"
   ]
  },
  {
   "cell_type": "code",
   "execution_count": 3,
   "metadata": {},
   "outputs": [],
   "source": [
    "vocab_list = list(model.wv.key_to_index.keys())\n",
    "vocab_frequencies = {word: model.wv.get_vecattr(word, \"count\") for word in vocab_list}"
   ]
  },
  {
   "cell_type": "code",
   "execution_count": 4,
   "metadata": {},
   "outputs": [],
   "source": [
    "vocab_df = pd.DataFrame.from_dict(vocab_frequencies, \"index\", columns = [\"freq\"]).reset_index()\n",
    "vocab_df = vocab_df.rename(columns = {\"index\":\"vocab\"})"
   ]
  },
  {
   "cell_type": "markdown",
   "metadata": {},
   "source": [
    "# n-grams + collocations"
   ]
  },
  {
   "cell_type": "code",
   "execution_count": 5,
   "metadata": {},
   "outputs": [
    {
     "name": "stdout",
     "output_type": "stream",
     "text": [
      "text loaded\n"
     ]
    }
   ],
   "source": [
    "with open(pathtodata, \"r\", encoding = \"utf-8\") as f :\n",
    "    text = f.read()\n",
    "print(\"text loaded\")\n",
    "text = re.sub(r'[^\\w\\s]', '', text)\n",
    "text_tokens = regexp_tokenize(text, pattern='\\s+', gaps =True)"
   ]
  },
  {
   "cell_type": "code",
   "execution_count": 13,
   "metadata": {},
   "outputs": [],
   "source": [
    "def ngrams_builder(ngram, tokens, filter) :\n",
    "    if ngram == 2 :\n",
    "       ngram_measures = BigramAssocMeasures()\n",
    "       finder = BigramCollocationFinder.from_words(text_tokens)\n",
    "    elif ngram == 3 :\n",
    "        ngram_measures = TrigramAssocMeasures()\n",
    "        finder = TrigramCollocationFinder.from_words(text_tokens)\n",
    "    print(\"ngrams found\")\n",
    "    finder.apply_freq_filter(filter)\n",
    "\n",
    "    ngrams_freq = finder.ngram_fd.items()\n",
    "    scores = finder.score_ngrams(ngram_measures.pmi)\n",
    "    print(\"filter applied, score and freq calculated\")\n",
    "    ngrams_df = pd.DataFrame(ngrams_freq, columns = [f\"{ngram}gram\", \"freq\"])\n",
    "    score_df= pd.DataFrame(scores,  columns = [f\"{ngram}gram\", \"score\"])\n",
    "    ngrams_df = pd.merge(ngrams_df, score_df, on = f\"{ngram}gram\")\n",
    "\n",
    "    ngrams_df[[f\"term{i+1}\" for i in range(ngram)]] = ngrams_df[f'{ngram}gram'].apply(pd.Series)   \n",
    "    print(f\"{ngram}grams Done\")\n",
    "    return ngrams_df"
   ]
  },
  {
   "cell_type": "code",
   "execution_count": 14,
   "metadata": {},
   "outputs": [
    {
     "name": "stdout",
     "output_type": "stream",
     "text": [
      "ngrams found\n",
      "filter applied, score and freq calculated\n",
      "2grams Done\n",
      "ngrams found\n",
      "filter applied, score and freq calculated\n",
      "3grams Done\n"
     ]
    }
   ],
   "source": [
    "bigrams = ngrams_builder(2, text_tokens, 3)\n",
    "trigrams = ngrams_builder(3, text_tokens, 4)"
   ]
  },
  {
   "cell_type": "code",
   "execution_count": 18,
   "metadata": {},
   "outputs": [],
   "source": [
    "bigrams_vaches = bigrams.loc[(bigrams[\"term1\"].isin(list_of_terms)) | (bigrams[\"term2\"].isin(list_of_terms))].reset_index()\n",
    "trigrams_vaches = trigrams.loc[(trigrams[\"term1\"].isin(list_of_terms)) | (trigrams[\"term2\"].isin(list_of_terms)) | (trigrams[\"term3\"].isin(list_of_terms))].reset_index()"
   ]
  },
  {
   "cell_type": "markdown",
   "metadata": {},
   "source": [
    "# Output"
   ]
  },
  {
   "cell_type": "code",
   "execution_count": 21,
   "metadata": {},
   "outputs": [],
   "source": [
    "vocab_df.to_csv(\"vocab_freq.csv\")\n",
    "bigrams.to_csv(\"bigrams.csv\")\n",
    "trigrams.to_csv(\"trigrams.csv\")\n",
    "\n",
    "bigrams_vaches.to_csv(\"bigrams_vaches.csv\")\n",
    "trigrams_vaches.to_csv(\"trigrams_vaches.csv\")\n",
    "\n",
    "list_of_info = [f\"Longueur du vocabulaire - Modèle Word2Vec : {len(vocab_list)}\",\n",
    "                f\"Nombre de tokens - Obtenu en additionnant les fréquences du vocabulaire : {sum(vocab_frequencies.values())}\",\n",
    "                f\"Nombre de tokens - Obtenu avec nltk.regexp_tokenize : {len(text_tokens)}\"]\n",
    "\n",
    "with open(\"general_info_BNF_corpus.txt\", \"w\", encoding = \"utf-8\") as ff :\n",
    "    for info in list_of_info :\n",
    "        ff.write(info)\n",
    "        ff.write(\"\\n\")\n"
   ]
  }
 ],
 "metadata": {
  "kernelspec": {
   "display_name": "bighistdiachemb",
   "language": "python",
   "name": "bighistdiachemb"
  },
  "language_info": {
   "codemirror_mode": {
    "name": "ipython",
    "version": 3
   },
   "file_extension": ".py",
   "mimetype": "text/x-python",
   "name": "python",
   "nbconvert_exporter": "python",
   "pygments_lexer": "ipython3",
   "version": "3.10.14"
  }
 },
 "nbformat": 4,
 "nbformat_minor": 2
}
