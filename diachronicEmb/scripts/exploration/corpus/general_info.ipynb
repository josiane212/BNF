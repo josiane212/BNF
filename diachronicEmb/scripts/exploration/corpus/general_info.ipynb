{
 "cells": [
  {
   "cell_type": "code",
   "execution_count": 1,
   "metadata": {},
   "outputs": [
    {
     "name": "stderr",
     "output_type": "stream",
     "text": [
      "[nltk_data] Downloading package punkt to /root/nltk_data...\n",
      "[nltk_data]   Package punkt is already up-to-date!\n"
     ]
    }
   ],
   "source": [
    "from gensim.models import Word2Vec, KeyedVectors\n",
    "\n",
    "from nltk.collocations import *\n",
    "from nltk.tokenize.regexp import regexp_tokenize\n",
    "import nltk\n",
    "from nltk.collocations import BigramCollocationFinder, TrigramCollocationFinder\n",
    "from nltk.metrics import BigramAssocMeasures, TrigramAssocMeasures\n",
    "nltk.download('punkt')\n",
    "\n",
    "import pandas as pd\n",
    "from collections import Counter\n",
    "import re"
   ]
  },
  {
   "cell_type": "code",
   "execution_count": 21,
   "metadata": {},
   "outputs": [],
   "source": [
    "pathtomodel =\"../../../outputs/All_BNF/aligned/all.model\"\n",
    "pathtodata = \"../../../data/all_data/all.txt\"\n",
    "model = Word2Vec.load(pathtomodel)\n",
    "\n",
    "list_of_terms = [\"vache\",\n",
    "                \"veau\",\n",
    "                \"taurillon\",\n",
    "                \"genisse\",\n",
    "                \"taureau\",\n",
    "                \"boeuf\",\n",
    "                \"bestiaux\"]"
   ]
  },
  {
   "cell_type": "markdown",
   "metadata": {},
   "source": [
    "# Vocab + frequencies"
   ]
  },
  {
   "cell_type": "code",
   "execution_count": 3,
   "metadata": {},
   "outputs": [],
   "source": [
    "vocab_list = list(model.wv.key_to_index.keys())\n",
    "vocab_frequencies = {word: model.wv.get_vecattr(word, \"count\") for word in vocab_list}"
   ]
  },
  {
   "cell_type": "code",
   "execution_count": 17,
   "metadata": {},
   "outputs": [],
   "source": [
    "vocab_df = pd.DataFrame.from_dict(vocab_frequencies, \"index\", columns = [\"freq\"]).reset_index()\n",
    "vocab_df = vocab_df.rename(columns = {\"index\":\"vocab\"})"
   ]
  },
  {
   "cell_type": "markdown",
   "metadata": {},
   "source": [
    "# n-grams + collocations"
   ]
  },
  {
   "cell_type": "code",
   "execution_count": 4,
   "metadata": {},
   "outputs": [
    {
     "name": "stdout",
     "output_type": "stream",
     "text": [
      "text loaded\n"
     ]
    }
   ],
   "source": [
    "with open(pathtodata, \"r\", encoding = \"utf-8\") as f :\n",
    "    text = f.read()\n",
    "print(\"text loaded\")\n",
    "text = re.sub(r'[^\\w\\s]', '', text)\n",
    "text_tokens = regexp_tokenize(text, pattern='\\s+', gaps =True)"
   ]
  },
  {
   "cell_type": "code",
   "execution_count": 5,
   "metadata": {},
   "outputs": [
    {
     "name": "stdout",
     "output_type": "stream",
     "text": [
      "Bigrams found\n",
      "Trigrams found\n"
     ]
    }
   ],
   "source": [
    "# Find bigrams\n",
    "bigram_measures = BigramAssocMeasures()\n",
    "trigram_measures = TrigramAssocMeasures()\n",
    "\n",
    "finder_bi = BigramCollocationFinder.from_words(text_tokens)\n",
    "print(\"Bigrams found\")\n",
    "finder_tri = TrigramCollocationFinder.from_words(text_tokens)\n",
    "print(\"Trigrams found\")\n",
    "\n",
    "# Apply frequency filter (only bigrams that appear at least 2 times)\n",
    "finder_bi.apply_freq_filter(3)\n",
    "finder_tri.apply_freq_filter(4)"
   ]
  },
  {
   "cell_type": "code",
   "execution_count": 6,
   "metadata": {},
   "outputs": [],
   "source": [
    "bigrams_info = sorted(finder_bi.ngram_fd.items(), key=lambda t: (-t[1], t[0]))\n",
    "trigrams_info = sorted(finder_tri.ngram_fd.items(), key=lambda t: (-t[1], t[0]))"
   ]
  },
  {
   "cell_type": "code",
   "execution_count": 7,
   "metadata": {},
   "outputs": [],
   "source": [
    "bigrams_df = pd.DataFrame(bigrams_info, columns = [\"bigram\", \"freq\"])\n",
    "trigrams_df = pd.DataFrame(trigrams_info, columns = [\"trigram\", \"freq\"])"
   ]
  },
  {
   "cell_type": "code",
   "execution_count": 8,
   "metadata": {},
   "outputs": [],
   "source": [
    "bigrams_df[[\"term1\", \"term2\"]] = bigrams_df['bigram'].apply(pd.Series)\n",
    "trigrams_df[[\"term1\", \"term2\", \"term3\"]] = trigrams_df[\"trigram\"].apply(pd.Series)\n"
   ]
  },
  {
   "cell_type": "code",
   "execution_count": 33,
   "metadata": {},
   "outputs": [],
   "source": [
    "bigrams_vaches = bigrams_df.loc[(bigrams_df[\"term1\"].isin(list_of_terms)) | (bigrams_df[\"term2\"].isin(list_of_terms))].reset_index()\n",
    "trigrams_vaches = trigrams_df.loc[(trigrams_df[\"term1\"].isin(list_of_terms)) | (trigrams_df[\"term2\"].isin(list_of_terms)) | (trigrams_df[\"term3\"].isin(list_of_terms))].reset_index()"
   ]
  },
  {
   "cell_type": "code",
   "execution_count": 34,
   "metadata": {},
   "outputs": [
    {
     "data": {
      "text/html": [
       "<div>\n",
       "<style scoped>\n",
       "    .dataframe tbody tr th:only-of-type {\n",
       "        vertical-align: middle;\n",
       "    }\n",
       "\n",
       "    .dataframe tbody tr th {\n",
       "        vertical-align: top;\n",
       "    }\n",
       "\n",
       "    .dataframe thead th {\n",
       "        text-align: right;\n",
       "    }\n",
       "</style>\n",
       "<table border=\"1\" class=\"dataframe\">\n",
       "  <thead>\n",
       "    <tr style=\"text-align: right;\">\n",
       "      <th></th>\n",
       "      <th>index</th>\n",
       "      <th>trigram</th>\n",
       "      <th>freq</th>\n",
       "      <th>term1</th>\n",
       "      <th>term2</th>\n",
       "      <th>term3</th>\n",
       "    </tr>\n",
       "  </thead>\n",
       "  <tbody>\n",
       "    <tr>\n",
       "      <th>0</th>\n",
       "      <td>10813</td>\n",
       "      <td>(une, vache, et)</td>\n",
       "      <td>33</td>\n",
       "      <td>une</td>\n",
       "      <td>vache</td>\n",
       "      <td>et</td>\n",
       "    </tr>\n",
       "    <tr>\n",
       "      <th>1</th>\n",
       "      <td>13654</td>\n",
       "      <td>(de, lad, vache)</td>\n",
       "      <td>27</td>\n",
       "      <td>de</td>\n",
       "      <td>lad</td>\n",
       "      <td>vache</td>\n",
       "    </tr>\n",
       "    <tr>\n",
       "      <th>2</th>\n",
       "      <td>18408</td>\n",
       "      <td>(que, les, bestiaux)</td>\n",
       "      <td>22</td>\n",
       "      <td>que</td>\n",
       "      <td>les</td>\n",
       "      <td>bestiaux</td>\n",
       "    </tr>\n",
       "    <tr>\n",
       "      <th>3</th>\n",
       "      <td>24051</td>\n",
       "      <td>(une, vache, deux)</td>\n",
       "      <td>18</td>\n",
       "      <td>une</td>\n",
       "      <td>vache</td>\n",
       "      <td>deux</td>\n",
       "    </tr>\n",
       "    <tr>\n",
       "      <th>4</th>\n",
       "      <td>25591</td>\n",
       "      <td>(que, lad, vache)</td>\n",
       "      <td>17</td>\n",
       "      <td>que</td>\n",
       "      <td>lad</td>\n",
       "      <td>vache</td>\n",
       "    </tr>\n",
       "    <tr>\n",
       "      <th>...</th>\n",
       "      <td>...</td>\n",
       "      <td>...</td>\n",
       "      <td>...</td>\n",
       "      <td>...</td>\n",
       "      <td>...</td>\n",
       "      <td>...</td>\n",
       "    </tr>\n",
       "    <tr>\n",
       "      <th>116</th>\n",
       "      <td>187674</td>\n",
       "      <td>(vache, dune, part)</td>\n",
       "      <td>4</td>\n",
       "      <td>vache</td>\n",
       "      <td>dune</td>\n",
       "      <td>part</td>\n",
       "    </tr>\n",
       "    <tr>\n",
       "      <th>117</th>\n",
       "      <td>187675</td>\n",
       "      <td>(vache, et, de)</td>\n",
       "      <td>4</td>\n",
       "      <td>vache</td>\n",
       "      <td>et</td>\n",
       "      <td>de</td>\n",
       "    </tr>\n",
       "    <tr>\n",
       "      <th>118</th>\n",
       "      <td>187676</td>\n",
       "      <td>(vache, et, que)</td>\n",
       "      <td>4</td>\n",
       "      <td>vache</td>\n",
       "      <td>et</td>\n",
       "      <td>que</td>\n",
       "    </tr>\n",
       "    <tr>\n",
       "      <th>119</th>\n",
       "      <td>187728</td>\n",
       "      <td>(veau, de, lait)</td>\n",
       "      <td>4</td>\n",
       "      <td>veau</td>\n",
       "      <td>de</td>\n",
       "      <td>lait</td>\n",
       "    </tr>\n",
       "    <tr>\n",
       "      <th>120</th>\n",
       "      <td>187797</td>\n",
       "      <td>(vente, des, bestiaux)</td>\n",
       "      <td>4</td>\n",
       "      <td>vente</td>\n",
       "      <td>des</td>\n",
       "      <td>bestiaux</td>\n",
       "    </tr>\n",
       "  </tbody>\n",
       "</table>\n",
       "<p>121 rows × 6 columns</p>\n",
       "</div>"
      ],
      "text/plain": [
       "      index                 trigram  freq  term1  term2     term3\n",
       "0     10813        (une, vache, et)    33    une  vache        et\n",
       "1     13654        (de, lad, vache)    27     de    lad     vache\n",
       "2     18408    (que, les, bestiaux)    22    que    les  bestiaux\n",
       "3     24051      (une, vache, deux)    18    une  vache      deux\n",
       "4     25591       (que, lad, vache)    17    que    lad     vache\n",
       "..      ...                     ...   ...    ...    ...       ...\n",
       "116  187674     (vache, dune, part)     4  vache   dune      part\n",
       "117  187675         (vache, et, de)     4  vache     et        de\n",
       "118  187676        (vache, et, que)     4  vache     et       que\n",
       "119  187728        (veau, de, lait)     4   veau     de      lait\n",
       "120  187797  (vente, des, bestiaux)     4  vente    des  bestiaux\n",
       "\n",
       "[121 rows x 6 columns]"
      ]
     },
     "execution_count": 34,
     "metadata": {},
     "output_type": "execute_result"
    }
   ],
   "source": [
    "trigrams_vaches"
   ]
  },
  {
   "cell_type": "markdown",
   "metadata": {},
   "source": [
    "# Output"
   ]
  },
  {
   "cell_type": "code",
   "execution_count": 48,
   "metadata": {},
   "outputs": [],
   "source": [
    "vocab_df.to_csv(\"vocab_freq.csv\")\n",
    "bigrams_df.to_csv(\"bigrams_freq.csv\")\n",
    "trigrams_df.to_csv(\"trigrams_freq.csv\")\n",
    "\n",
    "bigrams_vaches.to_csv(\"bigrams_vaches.csv\")\n",
    "trigrams_vaches.to_csv(\"trigrams_vaches.csv\")\n",
    "\n",
    "list_of_info = [f\"Longueur du vocabulaire - Modèle Word2Vec : {len(vocab_list)}\",\n",
    "                f\"Nombre de tokens - Obtenu en additionnant les fréquences du vocabulaire : {sum(vocab_frequencies.values())}\",\n",
    "                f\"Nombre de tokens - Obtenu avec nltk.regexp_tokenize : {len(text_tokens)}\"]\n",
    "\n",
    "with open(\"general_info_BNF_corpus.txt\", \"w\", encoding = \"utf-8\") as ff :\n",
    "    for info in list_of_info :\n",
    "        ff.write(info)\n",
    "        ff.write(\"\\n\")\n"
   ]
  }
 ],
 "metadata": {
  "kernelspec": {
   "display_name": "bighistdiachemb",
   "language": "python",
   "name": "bighistdiachemb"
  },
  "language_info": {
   "codemirror_mode": {
    "name": "ipython",
    "version": 3
   },
   "file_extension": ".py",
   "mimetype": "text/x-python",
   "name": "python",
   "nbconvert_exporter": "python",
   "pygments_lexer": "ipython3",
   "version": "3.10.14"
  }
 },
 "nbformat": 4,
 "nbformat_minor": 2
}
